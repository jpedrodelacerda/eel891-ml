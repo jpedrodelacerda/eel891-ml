{
 "cells": [
  {
   "cell_type": "code",
   "execution_count": null,
   "id": "e0a86e84",
   "metadata": {},
   "outputs": [],
   "source": []
  },
  {
   "cell_type": "code",
   "execution_count": 1,
   "id": "8ad252df",
   "metadata": {
    "collapsed": false,
    "jupyter": {
     "outputs_hidden": false
    }
   },
   "outputs": [],
   "source": [
    "# Data manipulation\n",
    "import pandas as pd\n",
    "import numpy as np\n",
    "\n",
    "# Visualization\n",
    "import matplotlib.pyplot as plt\n",
    "import seaborn as sns\n",
    "\n",
    "# Customizing visualization\n",
    "%matplotlib inline\n",
    "sns.set_theme(style=\"whitegrid\")\n"
   ]
  },
  {
   "cell_type": "code",
   "execution_count": 2,
   "id": "759192e6",
   "metadata": {
    "collapsed": false,
    "jupyter": {
     "outputs_hidden": false
    }
   },
   "outputs": [],
   "source": [
    "pd.options.display.max_columns = 150\n",
    "\n",
    "train = pd.read_csv('./input/conjunto_de_treinamento.csv')\n",
    "test = pd.read_csv('./input/conjunto_de_teste.csv')\n"
   ]
  },
  {
   "cell_type": "markdown",
   "id": "8d724d43",
   "metadata": {},
   "source": [
    "## Analisando o conjunto de treinamento"
   ]
  },
  {
   "cell_type": "code",
   "execution_count": 3,
   "id": "a4e41679",
   "metadata": {},
   "outputs": [
    {
     "name": "stdout",
     "output_type": "stream",
     "text": [
      "<class 'pandas.core.frame.DataFrame'>\n",
      "RangeIndex: 20000 entries, 0 to 19999\n",
      "Data columns (total 42 columns):\n",
      " #   Column                            Non-Null Count  Dtype  \n",
      "---  ------                            --------------  -----  \n",
      " 0   id_solicitante                    20000 non-null  int64  \n",
      " 1   produto_solicitado                20000 non-null  int64  \n",
      " 2   dia_vencimento                    20000 non-null  int64  \n",
      " 3   forma_envio_solicitacao           20000 non-null  object \n",
      " 4   tipo_endereco                     20000 non-null  int64  \n",
      " 5   sexo                              20000 non-null  object \n",
      " 6   idade                             20000 non-null  int64  \n",
      " 7   estado_civil                      20000 non-null  int64  \n",
      " 8   qtde_dependentes                  20000 non-null  int64  \n",
      " 9   grau_instrucao                    20000 non-null  int64  \n",
      " 10  nacionalidade                     20000 non-null  int64  \n",
      " 11  estado_onde_nasceu                20000 non-null  object \n",
      " 12  estado_onde_reside                20000 non-null  object \n",
      " 13  possui_telefone_residencial       20000 non-null  object \n",
      " 14  codigo_area_telefone_residencial  20000 non-null  object \n",
      " 15  tipo_residencia                   19464 non-null  float64\n",
      " 16  meses_na_residencia               18550 non-null  float64\n",
      " 17  possui_telefone_celular           20000 non-null  object \n",
      " 18  possui_email                      20000 non-null  int64  \n",
      " 19  renda_mensal_regular              20000 non-null  float64\n",
      " 20  renda_extra                       20000 non-null  float64\n",
      " 21  possui_cartao_visa                20000 non-null  int64  \n",
      " 22  possui_cartao_mastercard          20000 non-null  int64  \n",
      " 23  possui_cartao_diners              20000 non-null  int64  \n",
      " 24  possui_cartao_amex                20000 non-null  int64  \n",
      " 25  possui_outros_cartoes             20000 non-null  int64  \n",
      " 26  qtde_contas_bancarias             20000 non-null  int64  \n",
      " 27  qtde_contas_bancarias_especiais   20000 non-null  int64  \n",
      " 28  valor_patrimonio_pessoal          20000 non-null  float64\n",
      " 29  possui_carro                      20000 non-null  int64  \n",
      " 30  vinculo_formal_com_empresa        20000 non-null  object \n",
      " 31  estado_onde_trabalha              20000 non-null  object \n",
      " 32  possui_telefone_trabalho          20000 non-null  object \n",
      " 33  codigo_area_telefone_trabalho     20000 non-null  object \n",
      " 34  meses_no_trabalho                 20000 non-null  int64  \n",
      " 35  profissao                         16903 non-null  float64\n",
      " 36  ocupacao                          17022 non-null  float64\n",
      " 37  profissao_companheiro             8486 non-null   float64\n",
      " 38  grau_instrucao_companheiro        7140 non-null   float64\n",
      " 39  local_onde_reside                 20000 non-null  float64\n",
      " 40  local_onde_trabalha               20000 non-null  float64\n",
      " 41  inadimplente                      20000 non-null  int64  \n",
      "dtypes: float64(11), int64(20), object(11)\n",
      "memory usage: 6.4+ MB\n"
     ]
    }
   ],
   "source": [
    "train.info()\n"
   ]
  },
  {
   "cell_type": "code",
   "execution_count": 4,
   "id": "074f6510",
   "metadata": {},
   "outputs": [
    {
     "name": "stdout",
     "output_type": "stream",
     "text": [
      "<class 'pandas.core.frame.DataFrame'>\n",
      "RangeIndex: 5000 entries, 0 to 4999\n",
      "Data columns (total 41 columns):\n",
      " #   Column                            Non-Null Count  Dtype  \n",
      "---  ------                            --------------  -----  \n",
      " 0   id_solicitante                    5000 non-null   int64  \n",
      " 1   produto_solicitado                5000 non-null   int64  \n",
      " 2   dia_vencimento                    5000 non-null   int64  \n",
      " 3   forma_envio_solicitacao           5000 non-null   object \n",
      " 4   tipo_endereco                     5000 non-null   int64  \n",
      " 5   sexo                              5000 non-null   object \n",
      " 6   idade                             5000 non-null   int64  \n",
      " 7   estado_civil                      5000 non-null   int64  \n",
      " 8   qtde_dependentes                  5000 non-null   int64  \n",
      " 9   grau_instrucao                    5000 non-null   int64  \n",
      " 10  nacionalidade                     5000 non-null   int64  \n",
      " 11  estado_onde_nasceu                5000 non-null   object \n",
      " 12  estado_onde_reside                5000 non-null   object \n",
      " 13  possui_telefone_residencial       5000 non-null   object \n",
      " 14  codigo_area_telefone_residencial  5000 non-null   object \n",
      " 15  tipo_residencia                   4875 non-null   float64\n",
      " 16  meses_na_residencia               4638 non-null   float64\n",
      " 17  possui_telefone_celular           5000 non-null   object \n",
      " 18  possui_email                      5000 non-null   int64  \n",
      " 19  renda_mensal_regular              5000 non-null   float64\n",
      " 20  renda_extra                       5000 non-null   float64\n",
      " 21  possui_cartao_visa                5000 non-null   int64  \n",
      " 22  possui_cartao_mastercard          5000 non-null   int64  \n",
      " 23  possui_cartao_diners              5000 non-null   int64  \n",
      " 24  possui_cartao_amex                5000 non-null   int64  \n",
      " 25  possui_outros_cartoes             5000 non-null   int64  \n",
      " 26  qtde_contas_bancarias             5000 non-null   int64  \n",
      " 27  qtde_contas_bancarias_especiais   5000 non-null   int64  \n",
      " 28  valor_patrimonio_pessoal          5000 non-null   float64\n",
      " 29  possui_carro                      5000 non-null   int64  \n",
      " 30  vinculo_formal_com_empresa        5000 non-null   object \n",
      " 31  estado_onde_trabalha              5000 non-null   object \n",
      " 32  possui_telefone_trabalho          5000 non-null   object \n",
      " 33  codigo_area_telefone_trabalho     5000 non-null   object \n",
      " 34  meses_no_trabalho                 5000 non-null   int64  \n",
      " 35  profissao                         4238 non-null   float64\n",
      " 36  ocupacao                          4310 non-null   float64\n",
      " 37  profissao_companheiro             2113 non-null   float64\n",
      " 38  grau_instrucao_companheiro        1790 non-null   float64\n",
      " 39  local_onde_reside                 5000 non-null   float64\n",
      " 40  local_onde_trabalha               5000 non-null   float64\n",
      "dtypes: float64(11), int64(19), object(11)\n",
      "memory usage: 1.6+ MB\n"
     ]
    }
   ],
   "source": [
    "test.info()\n"
   ]
  },
  {
   "cell_type": "markdown",
   "id": "a311e55b",
   "metadata": {},
   "source": [
    "O conjunto de variáveis possui 41 colunas sendo:\n",
    "  - 20 int64\n",
    "  - 8 float64\n",
    "  - 11 object\n",
    "\n",
    "O conjunto de testes é semelhante, possuindo apenas a variável alvo: *inadimplentes*.\n",
    "Na etapa de processamento dos dados devemos levar em conta alguns fatores:\n",
    "  - O conjunto de testes é balanceado?\n",
    "  - As variáveis numéricas estão representando valores booleanos (0 ou 1) ou são variáveis ordinárias discretas?\n",
    "  - O que representam os valores de *object*? Provavelmente não podem ser passados diretamente para nossos modelos e, portanto, devem ser tratados previamente.\n",
    "  - Qual o percentual de valores nulos e o que fazer caso ocorram?"
   ]
  },
  {
   "cell_type": "markdown",
   "id": "ddf74582",
   "metadata": {},
   "source": [
    "## Balanceamento do conjunto\n",
    "\n",
    "Um conjunto é considerado balanceado quando a distribuição das variáveis alvo são aproximados, ou seja, as classes (num problema de classificação), estão igualmente distribuidas."
   ]
  },
  {
   "cell_type": "code",
   "execution_count": 5,
   "metadata": {},
   "outputs": [],
   "source": [
    "def plot_value_counts(df, col):\n",
    "    df_label = df[col].value_counts()\n",
    "    plt = sns.barplot(x=df_label.index, y=df_label.values)\n",
    "    plt.set(title=f\"Value Counts for '{col}'\", xlabel=f\"{col}\", ylabel=\"Count\")\n",
    "\n",
    "\n",
    "def plot_distribution_by_target(df, col, match=None, ax=None):\n",
    "    if match is not None:\n",
    "        df_labels = df[df[col] == match]\n",
    "    elif type(match) == np.nan:\n",
    "        df_labels = df[col].isna()\n",
    "    else:\n",
    "        df_labels = df[col]\n",
    "    label_counts = df_labels['inadimplente'].value_counts().sort_index()\n",
    "    if ax is None:\n",
    "        sns.barplot(x=label_counts.index, y=label_counts.values)\n",
    "        return\n",
    "    else:\n",
    "        sns.barplot(x=label_counts.index, y=label_counts.values, ax=ax)\n"
   ]
  },
  {
   "cell_type": "code",
   "execution_count": 6,
   "id": "f64d7608",
   "metadata": {},
   "outputs": [
    {
     "data": {
      "image/png": "[encoded data removed]",
      "text/plain": [
       "<Figure size 432x288 with 1 Axes>"
      ]
     },
     "metadata": {},
     "output_type": "display_data"
    }
   ],
   "source": [
    "# train['inadimplente'].describe()\n",
    "plot_value_counts(train, 'inadimplente')\n"
   ]
  },
  {
   "cell_type": "markdown",
   "id": "a3334a00",
   "metadata": {},
   "source": [
    "Portanto, podemos afirmar que o nosso conjunto de dados é balanceado."
   ]
  },
  {
   "cell_type": "markdown",
   "id": "049408fe",
   "metadata": {},
   "source": [
    "### Variáveis numéricas: booleanos ou ordinárias?\n",
    "\n",
    "É possível responder essa questão com uma simples contagem de valores únicos através das tabelas."
   ]
  },
  {
   "cell_type": "code",
   "execution_count": 7,
   "id": "8a45c07d",
   "metadata": {},
   "outputs": [
    {
     "data": {
      "text/plain": [
       "[Text(0.5, 1.0, 'Contagem de valores únicos nas variáveis'),\n",
       " Text(0.5, 0, 'Número de valores únicos'),\n",
       " Text(0, 0.5, 'Contagem')]"
      ]
     },
     "execution_count": 7,
     "metadata": {},
     "output_type": "execute_result"
    },
    {
     "data": {
      "image/png": "[encoded data removed]",
      "text/plain": [
       "<Figure size 432x288 with 1 Axes>"
      ]
     },
     "metadata": {},
     "output_type": "display_data"
    }
   ],
   "source": [
    "nuniques_int64 = train.select_dtypes(\n",
    "    np.int64).nunique().value_counts().sort_index()\n",
    "\n",
    "ax = sns.barplot(x=nuniques_int64.index, y=nuniques_int64.values)\n",
    "\n",
    "ax.set(title=\"Contagem de valores únicos nas variáveis\",\n",
    "       xlabel=\"Número de valores únicos\",\n",
    "       ylabel=\"Contagem\")\n"
   ]
  },
  {
   "cell_type": "markdown",
   "id": "afedf224",
   "metadata": {},
   "source": [
    "As colunas com apenas 2 valores representam booleanos (0 ou 1).\n",
    "Podemos notar também que o código pegou a identificação de cada registro, por isso o salto para 20000 valores únicos.\n",
    "Além disso, existe uma coluna que possui apenas um valor."
   ]
  },
  {
   "cell_type": "code",
   "execution_count": 8,
   "id": "86fa2c45",
   "metadata": {},
   "outputs": [
    {
     "data": {
      "text/plain": [
       "grau_instrucao                         1\n",
       "possui_email                           2\n",
       "possui_carro                           2\n",
       "possui_outros_cartoes                  2\n",
       "possui_cartao_amex                     2\n",
       "possui_cartao_diners                   2\n",
       "possui_cartao_mastercard               2\n",
       "possui_cartao_visa                     2\n",
       "inadimplente                           2\n",
       "tipo_endereco                          2\n",
       "qtde_contas_bancarias                  3\n",
       "qtde_contas_bancarias_especiais        3\n",
       "produto_solicitado                     3\n",
       "nacionalidade                          3\n",
       "dia_vencimento                         6\n",
       "estado_civil                           8\n",
       "meses_no_trabalho                     13\n",
       "qtde_dependentes                      15\n",
       "idade                                 84\n",
       "id_solicitante                     20000\n",
       "dtype: int64"
      ]
     },
     "execution_count": 8,
     "metadata": {},
     "output_type": "execute_result"
    }
   ],
   "source": [
    "train.select_dtypes(np.int64).nunique().sort_values(ascending=True)\n"
   ]
  },
  {
   "cell_type": "markdown",
   "id": "8d08f879",
   "metadata": {},
   "source": [
    "Como a coluna 'grau_instrucao' possui um valor apenas em todo os registros, podemos desconsiderá-la."
   ]
  },
  {
   "cell_type": "code",
   "execution_count": 9,
   "id": "29bd88cf",
   "metadata": {},
   "outputs": [],
   "source": [
    "for df in [train, test]:\n",
    "    df.drop(columns=['grau_instrucao'], axis=1, inplace=True)\n"
   ]
  },
  {
   "cell_type": "markdown",
   "id": "75c58ccd",
   "metadata": {},
   "source": [
    "### Variáveis do tipo object\n",
    "\n",
    "Podemos encontrar quais são as variáveis do tipo *object* da seguinte forma:"
   ]
  },
  {
   "cell_type": "code",
   "execution_count": 10,
   "id": "bcc4222a",
   "metadata": {},
   "outputs": [
    {
     "data": {
      "text/html": [
       "<div>\n",
       "<style scoped>\n",
       "    .dataframe tbody tr th:only-of-type {\n",
       "        vertical-align: middle;\n",
       "    }\n",
       "\n",
       "    .dataframe tbody tr th {\n",
       "        vertical-align: top;\n",
       "    }\n",
       "\n",
       "    .dataframe thead th {\n",
       "        text-align: right;\n",
       "    }\n",
       "</style>\n",
       "<table border=\"1\" class=\"dataframe\">\n",
       "  <thead>\n",
       "    <tr style=\"text-align: right;\">\n",
       "      <th></th>\n",
       "      <th>forma_envio_solicitacao</th>\n",
       "      <th>sexo</th>\n",
       "      <th>estado_onde_nasceu</th>\n",
       "      <th>estado_onde_reside</th>\n",
       "      <th>possui_telefone_residencial</th>\n",
       "      <th>codigo_area_telefone_residencial</th>\n",
       "      <th>possui_telefone_celular</th>\n",
       "      <th>vinculo_formal_com_empresa</th>\n",
       "      <th>estado_onde_trabalha</th>\n",
       "      <th>possui_telefone_trabalho</th>\n",
       "      <th>codigo_area_telefone_trabalho</th>\n",
       "    </tr>\n",
       "  </thead>\n",
       "  <tbody>\n",
       "    <tr>\n",
       "      <th>0</th>\n",
       "      <td>presencial</td>\n",
       "      <td>M</td>\n",
       "      <td>CE</td>\n",
       "      <td>CE</td>\n",
       "      <td>Y</td>\n",
       "      <td>107</td>\n",
       "      <td>N</td>\n",
       "      <td>N</td>\n",
       "      <td></td>\n",
       "      <td>N</td>\n",
       "      <td></td>\n",
       "    </tr>\n",
       "    <tr>\n",
       "      <th>1</th>\n",
       "      <td>internet</td>\n",
       "      <td>F</td>\n",
       "      <td>SE</td>\n",
       "      <td>SE</td>\n",
       "      <td>Y</td>\n",
       "      <td>91</td>\n",
       "      <td>N</td>\n",
       "      <td>N</td>\n",
       "      <td></td>\n",
       "      <td>N</td>\n",
       "      <td></td>\n",
       "    </tr>\n",
       "    <tr>\n",
       "      <th>2</th>\n",
       "      <td>internet</td>\n",
       "      <td>F</td>\n",
       "      <td>BA</td>\n",
       "      <td>BA</td>\n",
       "      <td>Y</td>\n",
       "      <td>90</td>\n",
       "      <td>N</td>\n",
       "      <td>N</td>\n",
       "      <td></td>\n",
       "      <td>N</td>\n",
       "      <td></td>\n",
       "    </tr>\n",
       "    <tr>\n",
       "      <th>3</th>\n",
       "      <td>internet</td>\n",
       "      <td>M</td>\n",
       "      <td>RS</td>\n",
       "      <td>RS</td>\n",
       "      <td>Y</td>\n",
       "      <td>54</td>\n",
       "      <td>N</td>\n",
       "      <td>Y</td>\n",
       "      <td>RS</td>\n",
       "      <td>Y</td>\n",
       "      <td>54</td>\n",
       "    </tr>\n",
       "    <tr>\n",
       "      <th>4</th>\n",
       "      <td>internet</td>\n",
       "      <td>F</td>\n",
       "      <td>BA</td>\n",
       "      <td>BA</td>\n",
       "      <td>Y</td>\n",
       "      <td>86</td>\n",
       "      <td>N</td>\n",
       "      <td>Y</td>\n",
       "      <td>BA</td>\n",
       "      <td>N</td>\n",
       "      <td></td>\n",
       "    </tr>\n",
       "  </tbody>\n",
       "</table>\n",
       "</div>"
      ],
      "text/plain": [
       "  forma_envio_solicitacao sexo estado_onde_nasceu estado_onde_reside  \\\n",
       "0              presencial    M                 CE                 CE   \n",
       "1                internet    F                 SE                 SE   \n",
       "2                internet    F                 BA                 BA   \n",
       "3                internet    M                 RS                 RS   \n",
       "4                internet    F                 BA                 BA   \n",
       "\n",
       "  possui_telefone_residencial codigo_area_telefone_residencial  \\\n",
       "0                           Y                              107   \n",
       "1                           Y                               91   \n",
       "2                           Y                               90   \n",
       "3                           Y                               54   \n",
       "4                           Y                               86   \n",
       "\n",
       "  possui_telefone_celular vinculo_formal_com_empresa estado_onde_trabalha  \\\n",
       "0                       N                          N                        \n",
       "1                       N                          N                        \n",
       "2                       N                          N                        \n",
       "3                       N                          Y                   RS   \n",
       "4                       N                          Y                   BA   \n",
       "\n",
       "  possui_telefone_trabalho codigo_area_telefone_trabalho  \n",
       "0                        N                                \n",
       "1                        N                                \n",
       "2                        N                                \n",
       "3                        Y                            54  \n",
       "4                        N                                "
      ]
     },
     "execution_count": 10,
     "metadata": {},
     "output_type": "execute_result"
    }
   ],
   "source": [
    "train.select_dtypes(object).head()\n"
   ]
  },
  {
   "cell_type": "code",
   "execution_count": 11,
   "id": "fee5a6ba",
   "metadata": {},
   "outputs": [
    {
     "name": "stdout",
     "output_type": "stream",
     "text": [
      "(20000, 11)\n"
     ]
    }
   ],
   "source": [
    "print(train.select_dtypes(object).shape)\n"
   ]
  },
  {
   "cell_type": "markdown",
   "id": "ce63771e",
   "metadata": {},
   "source": [
    "As seguintes variáveis apresentam valores binários:\n",
    "- 'forma_envio_solicitacao'\n",
    "- 'sexo'\n",
    "- 'possui_telefone_residencial'\n",
    "- 'possui_telefone_celular'\n",
    "- 'vinculo_formal_com_empresa'\n",
    "- 'possui_telefone_trabalho'\n",
    "\n",
    "Enquanto as colunas 'codigo_area_telefone_residencial' e 'codigo_area_telefone_trabalho' deveriam ser convertidos para int64.\n",
    "\n",
    "Os valores serão tratados utilizando a seguinte raciocínio:\n",
    "- \"Y\" e \"M\" = 1\n",
    "- \"N\" e \"F\" = 0\n",
    "Mas para isso, precisamos validar quais são os valores únicos presentes nessas colunas e como estão distribuidos."
   ]
  },
  {
   "cell_type": "code",
   "execution_count": 12,
   "id": "07008433",
   "metadata": {},
   "outputs": [],
   "source": [
    "convert_to_int64 = ['codigo_area_telefone_residencial',\n",
    "                    'codigo_area_telefone_trabalho']\n",
    "# train[convert_to_int64[0]] = pd.to_numeric(train[convert_to_int64[0]], errors='ignore')\n",
    "for df in [train, test]:\n",
    "    for col in convert_to_int64:\n",
    "        df[col] = pd.to_numeric(df[col], errors='coerce')\n"
   ]
  },
  {
   "cell_type": "code",
   "execution_count": 13,
   "id": "e2843899",
   "metadata": {},
   "outputs": [
    {
     "name": "stdout",
     "output_type": "stream",
     "text": [
      "Y    16474\n",
      "N     3526\n",
      "Name: possui_telefone_residencial, dtype: int64\n",
      "N    20000\n",
      "Name: possui_telefone_celular, dtype: int64\n",
      "N    11174\n",
      "Y     8826\n",
      "Name: vinculo_formal_com_empresa, dtype: int64\n",
      "N    14519\n",
      "Y     5481\n",
      "Name: possui_telefone_trabalho, dtype: int64\n",
      "F    12246\n",
      "M     7722\n",
      "N       25\n",
      "         7\n",
      "Name: sexo, dtype: int64\n",
      "internet      11264\n",
      "presencial     7855\n",
      "correio         881\n",
      "Name: forma_envio_solicitacao, dtype: int64\n"
     ]
    },
    {
     "data": {
      "image/png": "[encoded data removed]",
      "text/plain": [
       "<Figure size 1440x720 with 6 Axes>"
      ]
     },
     "metadata": {},
     "output_type": "display_data"
    }
   ],
   "source": [
    "y_or_n_cols = ['possui_telefone_residencial', 'possui_telefone_celular',\n",
    "               'vinculo_formal_com_empresa', 'possui_telefone_trabalho']\n",
    "gender_col = ['sexo']\n",
    "req_type_cols = ['forma_envio_solicitacao']\n",
    "\n",
    "check_unique_values = y_or_n_cols + gender_col + req_type_cols\n",
    "\n",
    "fig, ax = plt.subplots(figsize=(20, 10), nrows=3, ncols=2)\n",
    "\n",
    "for i, col in enumerate(check_unique_values):\n",
    "    unique_values = train[col].unique()\n",
    "    unique_value_counts = train[col].value_counts()\n",
    "    print(f\"{unique_value_counts}\")\n",
    "    sns.barplot(x=unique_values, y=unique_value_counts, ax=ax[int(i/2), i % 2])\n"
   ]
  },
  {
   "cell_type": "markdown",
   "id": "49fe229c",
   "metadata": {},
   "source": [
    "Essa visualização trazem três pontos interessantes:\n",
    "- A função aponta que na coluna 'sexo', devem ser considerados os casos 'N' e ' '. Como são poucos registros, podemos desconsiderar esses valores para reduzir a complexidade da variável.\n",
    "- Todos os registros não possuem telefone celular, o que significa que esse valor não vai impactar na decisão do modelo e pode ser rejeitado.\n",
    "- As formas de envio da solicitação possui um valor muito baixo como 'correios'. Isso pode ser analisado melhor na distribuição dessa variável com a nossa variável alvo."
   ]
  },
  {
   "cell_type": "code",
   "execution_count": 14,
   "id": "a402bc27",
   "metadata": {},
   "outputs": [
    {
     "data": {
      "image/png": "[encoded data removed]",
      "text/plain": [
       "<Figure size 432x288 with 1 Axes>"
      ]
     },
     "metadata": {},
     "output_type": "display_data"
    }
   ],
   "source": [
    "plot_distribution_by_target(train, 'forma_envio_solicitacao', 'correio')\n"
   ]
  },
  {
   "cell_type": "markdown",
   "id": "f671949b",
   "metadata": {},
   "source": [
    "Os valores estão balanceados mas serão mantidos no conjunto."
   ]
  },
  {
   "cell_type": "code",
   "execution_count": 15,
   "id": "9d15fe17",
   "metadata": {},
   "outputs": [],
   "source": [
    "# Drop \"N\" and \" \" values from 'sexo'\n",
    "train = train.drop(train[(train['sexo'] == \" \") |\n",
    "                   (train['sexo'] == \"N\")].index)\n",
    "\n",
    "# Drop 'possui_telefone_celular'\n",
    "y_or_n_cols.remove('possui_telefone_celular')\n",
    "check_unique_values.remove('possui_telefone_celular')\n",
    "train = train.drop(columns='possui_telefone_celular')\n",
    "test = test.drop(columns='possui_telefone_celular')\n"
   ]
  },
  {
   "cell_type": "code",
   "execution_count": 16,
   "id": "e78935fd",
   "metadata": {},
   "outputs": [
    {
     "name": "stdout",
     "output_type": "stream",
     "text": [
      "<class 'pandas.core.frame.DataFrame'>\n",
      "Int64Index: 19968 entries, 0 to 19999\n",
      "Data columns (total 40 columns):\n",
      " #   Column                            Non-Null Count  Dtype  \n",
      "---  ------                            --------------  -----  \n",
      " 0   id_solicitante                    19968 non-null  int64  \n",
      " 1   produto_solicitado                19968 non-null  int64  \n",
      " 2   dia_vencimento                    19968 non-null  int64  \n",
      " 3   forma_envio_solicitacao           19968 non-null  object \n",
      " 4   tipo_endereco                     19968 non-null  int64  \n",
      " 5   sexo                              19968 non-null  object \n",
      " 6   idade                             19968 non-null  int64  \n",
      " 7   estado_civil                      19968 non-null  int64  \n",
      " 8   qtde_dependentes                  19968 non-null  int64  \n",
      " 9   nacionalidade                     19968 non-null  int64  \n",
      " 10  estado_onde_nasceu                19968 non-null  object \n",
      " 11  estado_onde_reside                19968 non-null  object \n",
      " 12  possui_telefone_residencial       19968 non-null  object \n",
      " 13  codigo_area_telefone_residencial  16437 non-null  float64\n",
      " 14  tipo_residencia                   19432 non-null  float64\n",
      " 15  meses_na_residencia               18518 non-null  float64\n",
      " 16  possui_email                      19968 non-null  int64  \n",
      " 17  renda_mensal_regular              19968 non-null  float64\n",
      " 18  renda_extra                       19968 non-null  float64\n",
      " 19  possui_cartao_visa                19968 non-null  int64  \n",
      " 20  possui_cartao_mastercard          19968 non-null  int64  \n",
      " 21  possui_cartao_diners              19968 non-null  int64  \n",
      " 22  possui_cartao_amex                19968 non-null  int64  \n",
      " 23  possui_outros_cartoes             19968 non-null  int64  \n",
      " 24  qtde_contas_bancarias             19968 non-null  int64  \n",
      " 25  qtde_contas_bancarias_especiais   19968 non-null  int64  \n",
      " 26  valor_patrimonio_pessoal          19968 non-null  float64\n",
      " 27  possui_carro                      19968 non-null  int64  \n",
      " 28  vinculo_formal_com_empresa        19968 non-null  object \n",
      " 29  estado_onde_trabalha              19968 non-null  object \n",
      " 30  possui_telefone_trabalho          19968 non-null  object \n",
      " 31  codigo_area_telefone_trabalho     5465 non-null   float64\n",
      " 32  meses_no_trabalho                 19968 non-null  int64  \n",
      " 33  profissao                         16871 non-null  float64\n",
      " 34  ocupacao                          16990 non-null  float64\n",
      " 35  profissao_companheiro             8454 non-null   float64\n",
      " 36  grau_instrucao_companheiro        7109 non-null   float64\n",
      " 37  local_onde_reside                 19968 non-null  float64\n",
      " 38  local_onde_trabalha               19968 non-null  float64\n",
      " 39  inadimplente                      19968 non-null  int64  \n",
      "dtypes: float64(13), int64(19), object(8)\n",
      "memory usage: 6.2+ MB\n",
      "None\n"
     ]
    }
   ],
   "source": [
    "print(train.info())\n"
   ]
  },
  {
   "cell_type": "code",
   "execution_count": 17,
   "id": "ddc593eb",
   "metadata": {},
   "outputs": [
    {
     "name": "stdout",
     "output_type": "stream",
     "text": [
      "<class 'pandas.core.frame.DataFrame'>\n",
      "RangeIndex: 5000 entries, 0 to 4999\n",
      "Data columns (total 39 columns):\n",
      " #   Column                            Non-Null Count  Dtype  \n",
      "---  ------                            --------------  -----  \n",
      " 0   id_solicitante                    5000 non-null   int64  \n",
      " 1   produto_solicitado                5000 non-null   int64  \n",
      " 2   dia_vencimento                    5000 non-null   int64  \n",
      " 3   forma_envio_solicitacao           5000 non-null   object \n",
      " 4   tipo_endereco                     5000 non-null   int64  \n",
      " 5   sexo                              5000 non-null   object \n",
      " 6   idade                             5000 non-null   int64  \n",
      " 7   estado_civil                      5000 non-null   int64  \n",
      " 8   qtde_dependentes                  5000 non-null   int64  \n",
      " 9   nacionalidade                     5000 non-null   int64  \n",
      " 10  estado_onde_nasceu                5000 non-null   object \n",
      " 11  estado_onde_reside                5000 non-null   object \n",
      " 12  possui_telefone_residencial       5000 non-null   object \n",
      " 13  codigo_area_telefone_residencial  4181 non-null   float64\n",
      " 14  tipo_residencia                   4875 non-null   float64\n",
      " 15  meses_na_residencia               4638 non-null   float64\n",
      " 16  possui_email                      5000 non-null   int64  \n",
      " 17  renda_mensal_regular              5000 non-null   float64\n",
      " 18  renda_extra                       5000 non-null   float64\n",
      " 19  possui_cartao_visa                5000 non-null   int64  \n",
      " 20  possui_cartao_mastercard          5000 non-null   int64  \n",
      " 21  possui_cartao_diners              5000 non-null   int64  \n",
      " 22  possui_cartao_amex                5000 non-null   int64  \n",
      " 23  possui_outros_cartoes             5000 non-null   int64  \n",
      " 24  qtde_contas_bancarias             5000 non-null   int64  \n",
      " 25  qtde_contas_bancarias_especiais   5000 non-null   int64  \n",
      " 26  valor_patrimonio_pessoal          5000 non-null   float64\n",
      " 27  possui_carro                      5000 non-null   int64  \n",
      " 28  vinculo_formal_com_empresa        5000 non-null   object \n",
      " 29  estado_onde_trabalha              5000 non-null   object \n",
      " 30  possui_telefone_trabalho          5000 non-null   object \n",
      " 31  codigo_area_telefone_trabalho     1339 non-null   float64\n",
      " 32  meses_no_trabalho                 5000 non-null   int64  \n",
      " 33  profissao                         4238 non-null   float64\n",
      " 34  ocupacao                          4310 non-null   float64\n",
      " 35  profissao_companheiro             2113 non-null   float64\n",
      " 36  grau_instrucao_companheiro        1790 non-null   float64\n",
      " 37  local_onde_reside                 5000 non-null   float64\n",
      " 38  local_onde_trabalha               5000 non-null   float64\n",
      "dtypes: float64(13), int64(18), object(8)\n",
      "memory usage: 1.5+ MB\n",
      "None\n"
     ]
    }
   ],
   "source": [
    "print(test.info())\n"
   ]
  },
  {
   "cell_type": "code",
   "execution_count": 18,
   "id": "16941090",
   "metadata": {},
   "outputs": [
    {
     "name": "stdout",
     "output_type": "stream",
     "text": [
      "<class 'pandas.core.frame.DataFrame'>\n",
      "Int64Index: 19968 entries, 0 to 19999\n",
      "Data columns (total 5 columns):\n",
      " #   Column                       Non-Null Count  Dtype\n",
      "---  ------                       --------------  -----\n",
      " 0   possui_telefone_residencial  19968 non-null  int64\n",
      " 1   vinculo_formal_com_empresa   19968 non-null  int64\n",
      " 2   possui_telefone_trabalho     19968 non-null  int64\n",
      " 3   sexo                         19968 non-null  int64\n",
      " 4   forma_envio_solicitacao      19968 non-null  int64\n",
      "dtypes: int64(5)\n",
      "memory usage: 936.0 KB\n"
     ]
    }
   ],
   "source": [
    "y_or_n_mapping = {\"Y\": 1.0, \"N\": 0.0}\n",
    "gender_mapping = {\"F\": 0, \"M\": 1, \" \": 2, \"N\": 2}\n",
    "req_type_mapping = {\"presencial\": 0, \"internet\": 1, \"correio\": 3}\n",
    "\n",
    "# The mapping should be applied to both train and test datasets:\n",
    "for df in [train, test]:\n",
    "    for col in y_or_n_cols:\n",
    "        df[col] = df[col].replace(y_or_n_mapping).astype(np.int64)\n",
    "    for col in req_type_cols:\n",
    "        df[col] = df[col].replace(req_type_mapping).astype(np.int64)\n",
    "    df['sexo'] = df['sexo'].replace(gender_mapping).astype(np.int64)\n",
    "\n",
    "train[check_unique_values].describe()\n",
    "train[check_unique_values].info()\n"
   ]
  },
  {
   "cell_type": "code",
   "execution_count": 19,
   "id": "4e39c56a",
   "metadata": {},
   "outputs": [
    {
     "data": {
      "text/plain": [
       "array([1, 0])"
      ]
     },
     "execution_count": 19,
     "metadata": {},
     "output_type": "execute_result"
    }
   ],
   "source": [
    "train['sexo'].unique()\n"
   ]
  },
  {
   "cell_type": "markdown",
   "id": "84c2c2cd",
   "metadata": {},
   "source": [
    "Para os colunas com estados, a abordagem será parecida:\n",
    "- 'estado_onde_nasceu'\n",
    "- 'estado_onde_reside'\n",
    "- 'estado_onde_trabalha'"
   ]
  },
  {
   "cell_type": "code",
   "execution_count": 20,
   "id": "5864d3b6",
   "metadata": {},
   "outputs": [
    {
     "data": {
      "text/html": [
       "<div>\n",
       "<style scoped>\n",
       "    .dataframe tbody tr th:only-of-type {\n",
       "        vertical-align: middle;\n",
       "    }\n",
       "\n",
       "    .dataframe tbody tr th {\n",
       "        vertical-align: top;\n",
       "    }\n",
       "\n",
       "    .dataframe thead th {\n",
       "        text-align: right;\n",
       "    }\n",
       "</style>\n",
       "<table border=\"1\" class=\"dataframe\">\n",
       "  <thead>\n",
       "    <tr style=\"text-align: right;\">\n",
       "      <th></th>\n",
       "      <th>estado_onde_nasceu</th>\n",
       "      <th>estado_onde_reside</th>\n",
       "      <th>estado_onde_trabalha</th>\n",
       "    </tr>\n",
       "  </thead>\n",
       "  <tbody>\n",
       "    <tr>\n",
       "      <th>count</th>\n",
       "      <td>19968.000000</td>\n",
       "      <td>19968.000000</td>\n",
       "      <td>19968.000000</td>\n",
       "    </tr>\n",
       "    <tr>\n",
       "      <th>mean</th>\n",
       "      <td>13.214493</td>\n",
       "      <td>13.531300</td>\n",
       "      <td>22.676182</td>\n",
       "    </tr>\n",
       "    <tr>\n",
       "      <th>std</th>\n",
       "      <td>7.473310</td>\n",
       "      <td>7.274176</td>\n",
       "      <td>7.469657</td>\n",
       "    </tr>\n",
       "    <tr>\n",
       "      <th>min</th>\n",
       "      <td>0.000000</td>\n",
       "      <td>0.000000</td>\n",
       "      <td>0.000000</td>\n",
       "    </tr>\n",
       "    <tr>\n",
       "      <th>25%</th>\n",
       "      <td>5.000000</td>\n",
       "      <td>6.000000</td>\n",
       "      <td>19.000000</td>\n",
       "    </tr>\n",
       "    <tr>\n",
       "      <th>50%</th>\n",
       "      <td>14.000000</td>\n",
       "      <td>14.000000</td>\n",
       "      <td>27.000000</td>\n",
       "    </tr>\n",
       "    <tr>\n",
       "      <th>75%</th>\n",
       "      <td>19.000000</td>\n",
       "      <td>19.000000</td>\n",
       "      <td>27.000000</td>\n",
       "    </tr>\n",
       "    <tr>\n",
       "      <th>max</th>\n",
       "      <td>27.000000</td>\n",
       "      <td>26.000000</td>\n",
       "      <td>27.000000</td>\n",
       "    </tr>\n",
       "  </tbody>\n",
       "</table>\n",
       "</div>"
      ],
      "text/plain": [
       "       estado_onde_nasceu  estado_onde_reside  estado_onde_trabalha\n",
       "count        19968.000000        19968.000000          19968.000000\n",
       "mean            13.214493           13.531300             22.676182\n",
       "std              7.473310            7.274176              7.469657\n",
       "min              0.000000            0.000000              0.000000\n",
       "25%              5.000000            6.000000             19.000000\n",
       "50%             14.000000           14.000000             27.000000\n",
       "75%             19.000000           19.000000             27.000000\n",
       "max             27.000000           26.000000             27.000000"
      ]
     },
     "execution_count": 20,
     "metadata": {},
     "output_type": "execute_result"
    }
   ],
   "source": [
    "states_mapping = {\n",
    "    \"AC\": 0,\n",
    "    \"AL\": 1,\n",
    "    \"AP\": 2,\n",
    "    \"AM\": 3,\n",
    "    \"BA\": 4,\n",
    "    \"CE\": 5,\n",
    "    \"ES\": 6,\n",
    "    \"GO\": 7,\n",
    "    \"MA\": 8,\n",
    "    \"MT\": 9,\n",
    "    \"MS\": 10,\n",
    "    \"MG\": 11,\n",
    "    \"PA\": 12,\n",
    "    \"PB\": 13,\n",
    "    \"PR\": 14,\n",
    "    \"PI\": 15,\n",
    "    \"PE\": 16,\n",
    "    \"RJ\": 17,\n",
    "    \"RN\": 18,\n",
    "    \"RS\": 19,\n",
    "    \"RO\": 20,\n",
    "    \"RR\": 21,\n",
    "    \"SC\": 22,\n",
    "    \"SP\": 23,\n",
    "    \"SE\": 24,\n",
    "    \"TO\": 25,\n",
    "    \"DF\": 26,\n",
    "    \" \": 27,\n",
    "}\n",
    "\n",
    "state_columns = ['estado_onde_nasceu',\n",
    "                 'estado_onde_reside', 'estado_onde_trabalha']\n",
    "\n",
    "for df in [train, test]:\n",
    "    for col in state_columns:\n",
    "        df[col] = df[col].replace(states_mapping, method=None)\n",
    "\n",
    "\n",
    "train[state_columns].describe()\n"
   ]
  },
  {
   "cell_type": "markdown",
   "id": "8598982f",
   "metadata": {},
   "source": [
    "Com isso, falta podemos checar se ainda restam tipos *object*."
   ]
  },
  {
   "cell_type": "code",
   "execution_count": 21,
   "id": "afc7a02b",
   "metadata": {},
   "outputs": [
    {
     "name": "stdout",
     "output_type": "stream",
     "text": [
      "<class 'pandas.core.frame.DataFrame'>\n",
      "RangeIndex: 5000 entries, 0 to 4999\n",
      "Data columns (total 39 columns):\n",
      " #   Column                            Non-Null Count  Dtype  \n",
      "---  ------                            --------------  -----  \n",
      " 0   id_solicitante                    5000 non-null   int64  \n",
      " 1   produto_solicitado                5000 non-null   int64  \n",
      " 2   dia_vencimento                    5000 non-null   int64  \n",
      " 3   forma_envio_solicitacao           5000 non-null   int64  \n",
      " 4   tipo_endereco                     5000 non-null   int64  \n",
      " 5   sexo                              5000 non-null   int64  \n",
      " 6   idade                             5000 non-null   int64  \n",
      " 7   estado_civil                      5000 non-null   int64  \n",
      " 8   qtde_dependentes                  5000 non-null   int64  \n",
      " 9   nacionalidade                     5000 non-null   int64  \n",
      " 10  estado_onde_nasceu                5000 non-null   int64  \n",
      " 11  estado_onde_reside                5000 non-null   int64  \n",
      " 12  possui_telefone_residencial       5000 non-null   int64  \n",
      " 13  codigo_area_telefone_residencial  4181 non-null   float64\n",
      " 14  tipo_residencia                   4875 non-null   float64\n",
      " 15  meses_na_residencia               4638 non-null   float64\n",
      " 16  possui_email                      5000 non-null   int64  \n",
      " 17  renda_mensal_regular              5000 non-null   float64\n",
      " 18  renda_extra                       5000 non-null   float64\n",
      " 19  possui_cartao_visa                5000 non-null   int64  \n",
      " 20  possui_cartao_mastercard          5000 non-null   int64  \n",
      " 21  possui_cartao_diners              5000 non-null   int64  \n",
      " 22  possui_cartao_amex                5000 non-null   int64  \n",
      " 23  possui_outros_cartoes             5000 non-null   int64  \n",
      " 24  qtde_contas_bancarias             5000 non-null   int64  \n",
      " 25  qtde_contas_bancarias_especiais   5000 non-null   int64  \n",
      " 26  valor_patrimonio_pessoal          5000 non-null   float64\n",
      " 27  possui_carro                      5000 non-null   int64  \n",
      " 28  vinculo_formal_com_empresa        5000 non-null   int64  \n",
      " 29  estado_onde_trabalha              5000 non-null   int64  \n",
      " 30  possui_telefone_trabalho          5000 non-null   int64  \n",
      " 31  codigo_area_telefone_trabalho     1339 non-null   float64\n",
      " 32  meses_no_trabalho                 5000 non-null   int64  \n",
      " 33  profissao                         4238 non-null   float64\n",
      " 34  ocupacao                          4310 non-null   float64\n",
      " 35  profissao_companheiro             2113 non-null   float64\n",
      " 36  grau_instrucao_companheiro        1790 non-null   float64\n",
      " 37  local_onde_reside                 5000 non-null   float64\n",
      " 38  local_onde_trabalha               5000 non-null   float64\n",
      "dtypes: float64(13), int64(26)\n",
      "memory usage: 1.5 MB\n"
     ]
    }
   ],
   "source": [
    "test.info()"
   ]
  },
  {
   "cell_type": "code",
   "execution_count": 22,
   "id": "3fd21606",
   "metadata": {},
   "outputs": [
    {
     "name": "stdout",
     "output_type": "stream",
     "text": [
      "O conjunto train possui 0 colunas do tipo object.\n",
      "O conjunto test possui 0 colunas do tipo object.\n"
     ]
    }
   ],
   "source": [
    "def check_object_columns(df, name):\n",
    "    print(\n",
    "        f\"O conjunto {name} possui {df.select_dtypes(object).shape[1]} colunas do tipo object.\")\n",
    "\n",
    "\n",
    "check_object_columns(train, 'train')\n",
    "check_object_columns(test, 'test')\n"
   ]
  },
  {
   "cell_type": "markdown",
   "id": "1cec41a2",
   "metadata": {},
   "source": [
    "### Valores faltantes\n",
    "Além disso, é necessário checar qual o percentual dos valores faltantes em cada coluna e se preciso, preencher os valores.\n",
    "\n",
    "Os conjuntos de teste e treino são unidos de forma temporária para que o tratamento dos valores seja feito de forma consistente."
   ]
  },
  {
   "cell_type": "code",
   "execution_count": 23,
   "id": "d70b988f",
   "metadata": {},
   "outputs": [],
   "source": [
    "test['inadimplente'] = np.nan\n",
    "data = pd.concat([train, test], ignore_index=True)\n"
   ]
  },
  {
   "cell_type": "code",
   "execution_count": 24,
   "id": "8b672423",
   "metadata": {},
   "outputs": [
    {
     "name": "stdout",
     "output_type": "stream",
     "text": [
      "                                  total   percent\n",
      "codigo_area_telefone_trabalho     18164  0.727491\n",
      "grau_instrucao_companheiro        16069  0.643584\n",
      "profissao_companheiro             14401  0.576778\n",
      "codigo_area_telefone_residencial   4350  0.174223\n",
      "profissao                          3859  0.154558\n",
      "ocupacao                           3668  0.146908\n",
      "meses_na_residencia                1812  0.072573\n",
      "tipo_residencia                     661  0.026474\n",
      "qtde_contas_bancarias                 0  0.000000\n",
      "qtde_contas_bancarias_especiais       0  0.000000\n"
     ]
    }
   ],
   "source": [
    "# Number of missing data in each column\n",
    "def find_missing_percentage(df):\n",
    "    missing = pd.DataFrame(df.isnull().sum()).rename(columns={0: 'total'})\n",
    "\n",
    "    # Percentage missing\n",
    "    missing['percent'] = missing['total'] / len(data)\n",
    "    print(missing.sort_values('percent', ascending=False).head(\n",
    "        11).drop('inadimplente'))\n",
    "\n",
    "find_missing_percentage(data)\n"
   ]
  },
  {
   "cell_type": "markdown",
   "id": "9aa483a6",
   "metadata": {},
   "source": [
    "Deveremos lidar com cada uma das variáveis de forma individual para descobrir qual será o melhor tratamento."
   ]
  },
  {
   "cell_type": "code",
   "execution_count": 25,
   "id": "ef8584d1",
   "metadata": {},
   "outputs": [],
   "source": [
    "missing_cols = ['codigo_area_telefone_trabalho', 'estado_onde_trabalha', 'grau_instrucao_companheiro', 'profissao_companheiro',\n",
    "                'codigo_area_telefone_residencial', 'profissao', 'ocupacao', 'meses_na_residencia', 'estado_onde_nasceu', 'tipo_residencia']\n"
   ]
  },
  {
   "cell_type": "markdown",
   "id": "79ebc0bd",
   "metadata": {},
   "source": [
    "As colunas que estão faltando mais informações, podem ser casos em que os indivíduos não possuem trabalho ou companheiros, por isso as informações não são declaradas, portanto essas colunas podem ser descartadas."
   ]
  },
  {
   "cell_type": "code",
   "execution_count": 26,
   "id": "4fda4f4d",
   "metadata": {},
   "outputs": [],
   "source": [
    "to_drop = ['codigo_area_telefone_trabalho', 'grau_instrucao_companheiro',\n",
    "           'profissao_companheiro', 'codigo_area_telefone_residencial']\n",
    "data = data.drop(columns=to_drop)\n",
    "for col in to_drop:\n",
    "    missing_cols.remove(col)\n"
   ]
  },
  {
   "cell_type": "code",
   "execution_count": 27,
   "id": "594fcbcb",
   "metadata": {},
   "outputs": [
    {
     "data": {
      "text/plain": [
       "['estado_onde_trabalha',\n",
       " 'profissao',\n",
       " 'ocupacao',\n",
       " 'meses_na_residencia',\n",
       " 'estado_onde_nasceu',\n",
       " 'tipo_residencia']"
      ]
     },
     "execution_count": 27,
     "metadata": {},
     "output_type": "execute_result"
    }
   ],
   "source": [
    "missing_cols\n"
   ]
  },
  {
   "cell_type": "code",
   "execution_count": 28,
   "id": "b2bb0bfd",
   "metadata": {},
   "outputs": [
    {
     "name": "stdout",
     "output_type": "stream",
     "text": [
      "                                 total   percent\n",
      "profissao                         3859  0.154558\n",
      "ocupacao                          3668  0.146908\n",
      "meses_na_residencia               1812  0.072573\n",
      "tipo_residencia                    661  0.026474\n",
      "valor_patrimonio_pessoal             0  0.000000\n",
      "possui_cartao_amex                   0  0.000000\n",
      "possui_outros_cartoes                0  0.000000\n",
      "qtde_contas_bancarias                0  0.000000\n",
      "qtde_contas_bancarias_especiais      0  0.000000\n",
      "vinculo_formal_com_empresa           0  0.000000\n"
     ]
    }
   ],
   "source": [
    "find_missing_percentage(data)\n"
   ]
  },
  {
   "cell_type": "markdown",
   "id": "54ba6834",
   "metadata": {},
   "source": [
    "Para lida com as variáveis categóricas 'ocupacao' e 'profissao' e 'tipo_residencia', podemos criar uma nova categoria para preencher os valores, que funcionará como 'não_identificado'.\n",
    "No caso da coluna 'meses_na_residencia', os valores faltantes serão convertidos para 0."
   ]
  },
  {
   "cell_type": "code",
   "execution_count": 29,
   "id": "e420e394",
   "metadata": {},
   "outputs": [],
   "source": [
    "# Fill missing values\n",
    "def add_new_category_to_fill_null(df, col):\n",
    "    df[col] = df[col].fillna(df[col].max() + 1)\n",
    "\n",
    "\n",
    "for col in ['ocupacao', 'profissao', 'tipo_residencia']:\n",
    "    add_new_category_to_fill_null(data, col)\n",
    "\n",
    "data['meses_na_residencia'] = data['meses_na_residencia'].fillna(0)\n"
   ]
  },
  {
   "cell_type": "code",
   "execution_count": 30,
   "id": "af005136",
   "metadata": {},
   "outputs": [
    {
     "name": "stdout",
     "output_type": "stream",
     "text": [
      "                                 total  percent\n",
      "produto_solicitado                   0      0.0\n",
      "possui_cartao_diners                 0      0.0\n",
      "possui_cartao_amex                   0      0.0\n",
      "possui_outros_cartoes                0      0.0\n",
      "qtde_contas_bancarias                0      0.0\n",
      "qtde_contas_bancarias_especiais      0      0.0\n",
      "valor_patrimonio_pessoal             0      0.0\n",
      "possui_carro                         0      0.0\n",
      "vinculo_formal_com_empresa           0      0.0\n",
      "estado_onde_trabalha                 0      0.0\n"
     ]
    }
   ],
   "source": [
    "find_missing_percentage(data)\n"
   ]
  },
  {
   "cell_type": "markdown",
   "id": "52a7c0f4",
   "metadata": {},
   "source": [
    "Agora o conjunto não possui mais valores faltantes."
   ]
  },
  {
   "cell_type": "markdown",
   "id": "49fd4f38",
   "metadata": {},
   "source": [
    "### Correlação das variáveis\n",
    "Podemos checar qual o grau de correlação dessas variáveis através de uma matriz de correlação e descobrir se há variáveis redundantes."
   ]
  },
  {
   "cell_type": "code",
   "execution_count": 31,
   "id": "1ff245f8",
   "metadata": {},
   "outputs": [
    {
     "data": {
      "image/png": "[encoded data removed]",
      "text/plain": [
       "<Figure size 1440x1440 with 2 Axes>"
      ]
     },
     "metadata": {},
     "output_type": "display_data"
    }
   ],
   "source": [
    "def plot_corr_matrix(corr_matrix):\n",
    "    fig, ax = plt.subplots(figsize=(20, 20))\n",
    "    sns.heatmap(data=corr_matrix, ax=ax, vmin=-1.0, vmax=1.0)\n",
    "\n",
    "\n",
    "corr_matrix = data.corr()\n",
    "plot_corr_matrix(corr_matrix)\n"
   ]
  },
  {
   "cell_type": "markdown",
   "id": "8d5b5e58",
   "metadata": {},
   "source": [
    "A matriz mostra alguns valores bem próximos de 1, mas existe uma forma melhor de filtrar quais são as variáveis que possuem a correlação acima de um limiar e então, removê-las."
   ]
  },
  {
   "cell_type": "code",
   "execution_count": 32,
   "id": "123798c9",
   "metadata": {},
   "outputs": [
    {
     "data": {
      "text/plain": [
       "['qtde_contas_bancarias_especiais', 'local_onde_trabalha']"
      ]
     },
     "execution_count": 32,
     "metadata": {},
     "output_type": "execute_result"
    }
   ],
   "source": [
    "def find_correlation_above_threshold(matrix, threshold=0.95):\n",
    "    upper = matrix.where(np.triu(np.ones(matrix.shape), k=1).astype(bool))\n",
    "    # Find index of feature columns with correlation greater than 0.95\n",
    "    corr_above_threshold = [column for column in upper.columns if any(\n",
    "        abs(upper[column]) > threshold)]\n",
    "    return corr_above_threshold\n",
    "\n",
    "\n",
    "to_drop = find_correlation_above_threshold(corr_matrix)\n",
    "to_drop\n"
   ]
  },
  {
   "cell_type": "code",
   "execution_count": 33,
   "id": "253f5b82",
   "metadata": {},
   "outputs": [],
   "source": [
    "data = data.drop(columns=to_drop)"
   ]
  },
  {
   "cell_type": "markdown",
   "id": "6aba6ada",
   "metadata": {},
   "source": [
    "## Modelos"
   ]
  },
  {
   "cell_type": "code",
   "execution_count": 34,
   "id": "68d2b8d8",
   "metadata": {},
   "outputs": [],
   "source": [
    "from sklearn.metrics import accuracy_score, make_scorer\n",
    "\n",
    "# Create scorer to evaluate model performance\n",
    "scorer = make_scorer(accuracy_score, greater_is_better=True)\n",
    "\n",
    "train_labels = np.array(list(data[data['inadimplente'].notnull()]['inadimplente'].astype(np.uint8)))\n",
    "train_set = data[data['inadimplente'].notnull()].drop(columns= ['id_solicitante', 'inadimplente'])\n",
    "test_set = data[data['inadimplente'].isnull()].drop(columns = ['id_solicitante', 'inadimplente'])"
   ]
  },
  {
   "cell_type": "markdown",
   "id": "23faec02",
   "metadata": {},
   "source": [
    "## Escalonamento\n",
    "\n",
    "Para rodar alguns modelos, o ideal é escalar nossas variáveis."
   ]
  },
  {
   "cell_type": "code",
   "execution_count": 35,
   "id": "57088652",
   "metadata": {},
   "outputs": [],
   "source": [
    "from sklearn.preprocessing import MinMaxScaler\n",
    "from sklearn.pipeline import Pipeline\n",
    "\n",
    "pipeline = Pipeline([('scaler', MinMaxScaler())])\n",
    "\n",
    "train_set = pipeline.fit_transform(train_set)\n",
    "test_set = pipeline.transform(test_set)"
   ]
  },
  {
   "cell_type": "markdown",
   "id": "aa88c2a3",
   "metadata": {},
   "source": [
    "## Rodando os modelos"
   ]
  },
  {
   "cell_type": "markdown",
   "metadata": {},
   "source": []
  },
  {
   "cell_type": "code",
   "execution_count": 36,
   "id": "de06882f",
   "metadata": {},
   "outputs": [],
   "source": [
    "from sklearn.svm import LinearSVC\n",
    "from sklearn.neighbors import KNeighborsClassifier\n",
    "from sklearn.linear_model import LogisticRegressionCV\n",
    "from sklearn.tree import DecisionTreeClassifier\n",
    "from sklearn.ensemble import GradientBoostingClassifier as GBM, RandomForestClassifier"
   ]
  },
  {
   "cell_type": "code",
   "execution_count": 37,
   "id": "667628a6",
   "metadata": {},
   "outputs": [],
   "source": [
    "from sklearn.model_selection import GridSearchCV\n",
    "from sklearn.exceptions import ConvergenceWarning\n",
    "import warnings\n",
    "\n",
    "warnings.simplefilter('ignore')\n",
    "\n",
    "model_results = pd.DataFrame(columns=['model', 'params', 'cv_mean', 'cv_std', 'scaler'])\n",
    "\n",
    "def cv_model(train_set, train_labels, model, params, name, model_results=None):\n",
    "    clf = GridSearchCV(estimator=model,\n",
    "                       scoring=scorer,\n",
    "                       param_grid=params,\n",
    "                       cv=10,\n",
    "                       n_jobs=-1)\n",
    "    clf.fit(train_set, train_labels)\n",
    "    results = clf.cv_results_\n",
    "    best_score = clf.best_score_\n",
    "    best_score_std = results['std_test_score'][clf.best_index_]\n",
    "    best_params = str(clf.best_params_)\n",
    "    if model_results is not None:\n",
    "        model_results = model_results.append(pd.DataFrame({'model': name,\n",
    "                                                           'params': [best_params],\n",
    "                                                           'cv_mean': [best_score],\n",
    "                                                           'cv_std': [best_score_std]\n",
    "                                                           }))\n",
    "\n",
    "    print(f\"{name}: 10 Fold CV Score: {best_score} with std: {best_score_std}. params used = {best_params}\")\n",
    "    return model_results\n"
   ]
  },
  {
   "cell_type": "code",
   "execution_count": 38,
   "metadata": {},
   "outputs": [
    {
     "name": "stderr",
     "output_type": "stream",
     "text": [
      "/home/joao/.cache/pypoetry/virtualenvs/eel891-ml-iKDTWZY6-py3.9/lib/python3.9/site-packages/sklearn/svm/_base.py:1206: ConvergenceWarning: Liblinear failed to converge, increase the number of iterations.\n",
      "  warnings.warn(\n",
      "/home/joao/.cache/pypoetry/virtualenvs/eel891-ml-iKDTWZY6-py3.9/lib/python3.9/site-packages/sklearn/svm/_base.py:1206: ConvergenceWarning: Liblinear failed to converge, increase the number of iterations.\n",
      "  warnings.warn(\n",
      "/home/joao/.cache/pypoetry/virtualenvs/eel891-ml-iKDTWZY6-py3.9/lib/python3.9/site-packages/sklearn/svm/_base.py:1206: ConvergenceWarning: Liblinear failed to converge, increase the number of iterations.\n",
      "  warnings.warn(\n",
      "/home/joao/.cache/pypoetry/virtualenvs/eel891-ml-iKDTWZY6-py3.9/lib/python3.9/site-packages/sklearn/svm/_base.py:1206: ConvergenceWarning: Liblinear failed to converge, increase the number of iterations.\n",
      "  warnings.warn(\n",
      "/home/joao/.cache/pypoetry/virtualenvs/eel891-ml-iKDTWZY6-py3.9/lib/python3.9/site-packages/sklearn/svm/_base.py:1206: ConvergenceWarning: Liblinear failed to converge, increase the number of iterations.\n",
      "  warnings.warn(\n",
      "/home/joao/.cache/pypoetry/virtualenvs/eel891-ml-iKDTWZY6-py3.9/lib/python3.9/site-packages/sklearn/svm/_base.py:1206: ConvergenceWarning: Liblinear failed to converge, increase the number of iterations.\n",
      "  warnings.warn(\n",
      "/home/joao/.cache/pypoetry/virtualenvs/eel891-ml-iKDTWZY6-py3.9/lib/python3.9/site-packages/sklearn/svm/_base.py:1206: ConvergenceWarning: Liblinear failed to converge, increase the number of iterations.\n",
      "  warnings.warn(\n",
      "/home/joao/.cache/pypoetry/virtualenvs/eel891-ml-iKDTWZY6-py3.9/lib/python3.9/site-packages/sklearn/svm/_base.py:1206: ConvergenceWarning: Liblinear failed to converge, increase the number of iterations.\n",
      "  warnings.warn(\n",
      "/home/joao/.cache/pypoetry/virtualenvs/eel891-ml-iKDTWZY6-py3.9/lib/python3.9/site-packages/sklearn/svm/_base.py:1206: ConvergenceWarning: Liblinear failed to converge, increase the number of iterations.\n",
      "  warnings.warn(\n",
      "/home/joao/.cache/pypoetry/virtualenvs/eel891-ml-iKDTWZY6-py3.9/lib/python3.9/site-packages/sklearn/svm/_base.py:1206: ConvergenceWarning: Liblinear failed to converge, increase the number of iterations.\n",
      "  warnings.warn(\n",
      "/home/joao/.cache/pypoetry/virtualenvs/eel891-ml-iKDTWZY6-py3.9/lib/python3.9/site-packages/sklearn/svm/_base.py:1206: ConvergenceWarning: Liblinear failed to converge, increase the number of iterations.\n",
      "  warnings.warn(\n",
      "/home/joao/.cache/pypoetry/virtualenvs/eel891-ml-iKDTWZY6-py3.9/lib/python3.9/site-packages/sklearn/svm/_base.py:1206: ConvergenceWarning: Liblinear failed to converge, increase the number of iterations.\n",
      "  warnings.warn(\n",
      "/home/joao/.cache/pypoetry/virtualenvs/eel891-ml-iKDTWZY6-py3.9/lib/python3.9/site-packages/sklearn/svm/_base.py:1206: ConvergenceWarning: Liblinear failed to converge, increase the number of iterations.\n",
      "  warnings.warn(\n",
      "/home/joao/.cache/pypoetry/virtualenvs/eel891-ml-iKDTWZY6-py3.9/lib/python3.9/site-packages/sklearn/svm/_base.py:1206: ConvergenceWarning: Liblinear failed to converge, increase the number of iterations.\n",
      "  warnings.warn(\n",
      "/home/joao/.cache/pypoetry/virtualenvs/eel891-ml-iKDTWZY6-py3.9/lib/python3.9/site-packages/sklearn/svm/_base.py:1206: ConvergenceWarning: Liblinear failed to converge, increase the number of iterations.\n",
      "  warnings.warn(\n",
      "/home/joao/.cache/pypoetry/virtualenvs/eel891-ml-iKDTWZY6-py3.9/lib/python3.9/site-packages/sklearn/svm/_base.py:1206: ConvergenceWarning: Liblinear failed to converge, increase the number of iterations.\n",
      "  warnings.warn(\n",
      "/home/joao/.cache/pypoetry/virtualenvs/eel891-ml-iKDTWZY6-py3.9/lib/python3.9/site-packages/sklearn/svm/_base.py:1206: ConvergenceWarning: Liblinear failed to converge, increase the number of iterations.\n",
      "  warnings.warn(\n",
      "/home/joao/.cache/pypoetry/virtualenvs/eel891-ml-iKDTWZY6-py3.9/lib/python3.9/site-packages/sklearn/svm/_base.py:1206: ConvergenceWarning: Liblinear failed to converge, increase the number of iterations.\n",
      "  warnings.warn(\n",
      "/home/joao/.cache/pypoetry/virtualenvs/eel891-ml-iKDTWZY6-py3.9/lib/python3.9/site-packages/sklearn/svm/_base.py:1206: ConvergenceWarning: Liblinear failed to converge, increase the number of iterations.\n",
      "  warnings.warn(\n",
      "/home/joao/.cache/pypoetry/virtualenvs/eel891-ml-iKDTWZY6-py3.9/lib/python3.9/site-packages/sklearn/svm/_base.py:1206: ConvergenceWarning: Liblinear failed to converge, increase the number of iterations.\n",
      "  warnings.warn(\n",
      "/home/joao/.cache/pypoetry/virtualenvs/eel891-ml-iKDTWZY6-py3.9/lib/python3.9/site-packages/sklearn/svm/_base.py:1206: ConvergenceWarning: Liblinear failed to converge, increase the number of iterations.\n",
      "  warnings.warn(\n",
      "/home/joao/.cache/pypoetry/virtualenvs/eel891-ml-iKDTWZY6-py3.9/lib/python3.9/site-packages/sklearn/svm/_base.py:1206: ConvergenceWarning: Liblinear failed to converge, increase the number of iterations.\n",
      "  warnings.warn(\n",
      "/home/joao/.cache/pypoetry/virtualenvs/eel891-ml-iKDTWZY6-py3.9/lib/python3.9/site-packages/sklearn/svm/_base.py:1206: ConvergenceWarning: Liblinear failed to converge, increase the number of iterations.\n",
      "  warnings.warn(\n",
      "/home/joao/.cache/pypoetry/virtualenvs/eel891-ml-iKDTWZY6-py3.9/lib/python3.9/site-packages/sklearn/svm/_base.py:1206: ConvergenceWarning: Liblinear failed to converge, increase the number of iterations.\n",
      "  warnings.warn(\n",
      "/home/joao/.cache/pypoetry/virtualenvs/eel891-ml-iKDTWZY6-py3.9/lib/python3.9/site-packages/sklearn/svm/_base.py:1206: ConvergenceWarning: Liblinear failed to converge, increase the number of iterations.\n",
      "  warnings.warn(\n",
      "/home/joao/.cache/pypoetry/virtualenvs/eel891-ml-iKDTWZY6-py3.9/lib/python3.9/site-packages/sklearn/svm/_base.py:1206: ConvergenceWarning: Liblinear failed to converge, increase the number of iterations.\n",
      "  warnings.warn(\n",
      "/home/joao/.cache/pypoetry/virtualenvs/eel891-ml-iKDTWZY6-py3.9/lib/python3.9/site-packages/sklearn/svm/_base.py:1206: ConvergenceWarning: Liblinear failed to converge, increase the number of iterations.\n",
      "  warnings.warn(\n",
      "/home/joao/.cache/pypoetry/virtualenvs/eel891-ml-iKDTWZY6-py3.9/lib/python3.9/site-packages/sklearn/svm/_base.py:1206: ConvergenceWarning: Liblinear failed to converge, increase the number of iterations.\n",
      "  warnings.warn(\n",
      "/home/joao/.cache/pypoetry/virtualenvs/eel891-ml-iKDTWZY6-py3.9/lib/python3.9/site-packages/sklearn/svm/_base.py:1206: ConvergenceWarning: Liblinear failed to converge, increase the number of iterations.\n",
      "  warnings.warn(\n",
      "/home/joao/.cache/pypoetry/virtualenvs/eel891-ml-iKDTWZY6-py3.9/lib/python3.9/site-packages/sklearn/svm/_base.py:1206: ConvergenceWarning: Liblinear failed to converge, increase the number of iterations.\n",
      "  warnings.warn(\n"
     ]
    },
    {
     "name": "stdout",
     "output_type": "stream",
     "text": [
      "SVM: 10 Fold CV Score: 0.580830012553901 with std: 0.011654208609496043. params used = {'C': 10, 'loss': 'hinge'}\n"
     ]
    }
   ],
   "source": [
    "model_results = cv_model(train_set, train_labels, LinearSVC(random_state=42),\n",
    "                         {'C': [0.1, 1, 10],\n",
    "                          'loss': ['hinge', 'square_hinge']},\n",
    "                         'SVM', model_results)"
   ]
  },
  {
   "cell_type": "code",
   "execution_count": 39,
   "id": "eb6b47c1",
   "metadata": {},
   "outputs": [
    {
     "name": "stdout",
     "output_type": "stream",
     "text": [
      "RF: 10 Fold CV Score: 0.5854360950243 with std: 0.009326441185255474. params used = {'criterion': 'gini', 'n_estimators': 400}\n"
     ]
    }
   ],
   "source": [
    "model_results = cv_model(train_set,\n",
    "                         train_labels,\n",
    "                         RandomForestClassifier(random_state=42, n_jobs=-1),\n",
    "                         {'n_estimators': [10, 100, 200, 300, 400],\n",
    "                          'criterion': ['gini', 'entropy']},\n",
    "                         'RF',\n",
    "                         model_results)"
   ]
  },
  {
   "cell_type": "code",
   "execution_count": 40,
   "id": "55de6685",
   "metadata": {},
   "outputs": [
    {
     "name": "stdout",
     "output_type": "stream",
     "text": [
      "DT: 10 Fold CV Score: 0.5337047906529133 with std: 0.0071474723908473625. params used = {'criterion': 'entropy'}\n"
     ]
    }
   ],
   "source": [
    "model_results = cv_model(train_set,\n",
    "                         train_labels,\n",
    "                         DecisionTreeClassifier(random_state=42),\n",
    "                         {'criterion': ['gini', 'entropy']},\n",
    "                         'DT',\n",
    "                         model_results)"
   ]
  },
  {
   "cell_type": "code",
   "execution_count": 41,
   "id": "1e3da535",
   "metadata": {},
   "outputs": [
    {
     "name": "stdout",
     "output_type": "stream",
     "text": [
      "GBM: 10 Fold CV Score: 0.5879410297811447 with std: 0.007920582044985025. params used = {'learning_rate': 0.1, 'n_estimators': 100, 'n_iter_no_change': 10, 'subsample': 0.3, 'tol': 0.01}\n"
     ]
    }
   ],
   "source": [
    "model_results = cv_model(train_set,\n",
    "                         train_labels,\n",
    "                         GBM(random_state=42),\n",
    "                         {'n_estimators': [10, 100],\n",
    "                          'n_iter_no_change': [5, 10, 15],\n",
    "                          'learning_rate': [0.001, 0.01, 0.1],\n",
    "                          'tol': [0.01, 0.1],\n",
    "                          'subsample': [0.1, 0.3, 0.5, 0.7, 1.0]},\n",
    "                         'GBM',\n",
    "                         model_results)"
   ]
  },
  {
   "cell_type": "code",
   "execution_count": 42,
   "id": "b04792c7",
   "metadata": {},
   "outputs": [
    {
     "name": "stdout",
     "output_type": "stream",
     "text": [
      "KNN: 10 Fold CV Score: 0.5413162328663336 with std: 0.01179076710121587. params used = {'n_neighbors': 15}\n"
     ]
    }
   ],
   "source": [
    "model_results = cv_model(train_set,\n",
    "                         train_labels,\n",
    "                         KNeighborsClassifier(n_jobs=-1),\n",
    "                         {'n_neighbors': [5, 10, 15]},\n",
    "                         'KNN',\n",
    "                         model_results)"
   ]
  },
  {
   "cell_type": "code",
   "execution_count": 43,
   "id": "103c2980",
   "metadata": {},
   "outputs": [
    {
     "data": {
      "text/plain": [
       "Text(0, 0.5, 'Mean Accuracy Score w/ error bar')"
      ]
     },
     "execution_count": 43,
     "metadata": {},
     "output_type": "execute_result"
    },
    {
     "data": {
      "image/png": "[encoded data removed]",
      "text/plain": [
       "<Figure size 432x288 with 1 Axes>"
      ]
     },
     "metadata": {},
     "output_type": "display_data"
    }
   ],
   "source": [
    "model_results = model_results.set_index('model')\n",
    "model_results = model_results.sort_values(by='cv_mean', ascending=True)\n",
    "model_results['cv_mean'].plot.bar(color = 'purple', yerr = list(model_results['cv_std']), edgecolor = 'k')\n",
    "plt.title('Model Accuracy Score Results')\n",
    "plt.ylabel('Mean Accuracy Score w/ error bar')"
   ]
  },
  {
   "cell_type": "markdown",
   "id": "b28b7413",
   "metadata": {},
   "source": [
    "Pelo gráfico, o melhor modelo foi o GBM. Portanto, o que resta é encontrar os parâmetros encontrados pelo GridSearch e rodar o modelo para o conjunto de testes. Após isso, exportar a solução."
   ]
  },
  {
   "cell_type": "code",
   "execution_count": 44,
   "id": "984f2fe0",
   "metadata": {},
   "outputs": [],
   "source": [
    "import ast\n",
    "dict = ast.literal_eval(model_results['params']['GBM'])"
   ]
  },
  {
   "cell_type": "code",
   "execution_count": 45,
   "id": "87f27730",
   "metadata": {},
   "outputs": [],
   "source": [
    "def create_submission(model, train, train_labels, test, test_ids):\n",
    "    model.fit(train, train_labels)\n",
    "    predictions = model.predict(test)\n",
    "    predictions = pd.DataFrame({'id_solicitante': test_ids,\n",
    "                                'inadimplente': predictions})\n",
    "\n",
    "    return predictions"
   ]
  },
  {
   "cell_type": "code",
   "execution_count": 46,
   "id": "1f7d7b7d",
   "metadata": {},
   "outputs": [],
   "source": [
    "test_ids = test['id_solicitante']"
   ]
  },
  {
   "cell_type": "code",
   "execution_count": 47,
   "id": "a83fa0ca",
   "metadata": {},
   "outputs": [
    {
     "name": "stdout",
     "output_type": "stream",
     "text": [
      "      id_solicitante  inadimplente\n",
      "0              20001             1\n",
      "1              20002             1\n",
      "2              20003             1\n",
      "3              20004             0\n",
      "4              20005             0\n",
      "...              ...           ...\n",
      "4995           24996             1\n",
      "4996           24997             1\n",
      "4997           24998             1\n",
      "4998           24999             1\n",
      "4999           25000             0\n",
      "\n",
      "[5000 rows x 2 columns]\n"
     ]
    }
   ],
   "source": [
    "params = ast.literal_eval(model_results['params']['GBM'])\n",
    "submission = create_submission(GBM(random_state=42, **params), train_set, train_labels, test_set, test_ids)\n",
    "print(submission)\n",
    "submission.describe()\n",
    "submission.to_csv('./output/gbm.csv', index=False)"
   ]
  }
 ],
 "metadata": {
  "interpreter": {
   "hash": "16941af913395d73eb221620cfe472bd09ce287a70363947c2b565844d19bccb"
  },
  "kernelspec": {
   "display_name": "eel891-ml",
   "language": "python",
   "name": "python3"
  },
  "language_info": {
   "codemirror_mode": {
    "name": "ipython",
    "version": 3
   },
   "file_extension": ".py",
   "mimetype": "text/x-python",
   "name": "python",
   "nbconvert_exporter": "python",
   "pygments_lexer": "ipython3",
   "version": "3.9.10"
  },
  "name": "notebook.ipynb"
 },
 "nbformat": 4,
 "nbformat_minor": 5
}
